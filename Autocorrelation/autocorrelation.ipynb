{
 "cells": [
  {
   "cell_type": "markdown",
   "metadata": {},
   "source": [
    "# The autocorrelation function"
   ]
  },
  {
   "cell_type": "markdown",
   "metadata": {},
   "source": [
    "The autocorrelation function quantifies the linear influence of the time lag between two observations of the process by a classical correlation calculation. The ACF for a time series 𝑦𝑡\n",
    "is given by : 𝐶𝑜𝑟𝑟(𝑦𝑡,𝑦𝑡+1)\n",
    "\n",
    "Python's **statsmodels.tsa.stattools.acf** option estimates the autocorrelation of time series data very quickly."
   ]
  },
  {
   "cell_type": "markdown",
   "metadata": {},
   "source": [
    "# Import module\n"
   ]
  },
  {
   "cell_type": "code",
   "execution_count": 4,
   "metadata": {},
   "outputs": [],
   "source": [
    "from __future__ import unicode_literals\n",
    "import numpy as np\n",
    "import matplotlib.pyplot as plt\n",
    "import datetime\n",
    "import matplotlib.pyplot as plt\n",
    "from statsmodels.tsa.stattools import acf\n",
    "from statsmodels.graphics.tsaplots import plot_acf\n",
    "import scipy"
   ]
  },
  {
   "cell_type": "code",
   "execution_count": 5,
   "metadata": {},
   "outputs": [],
   "source": [
    "date_ini      = \"2014-09-01\"\n",
    "\n",
    "date_fin      = \"2017-03-31\"\n"
   ]
  },
  {
   "cell_type": "markdown",
   "metadata": {},
   "source": [
    "# Data files"
   ]
  },
  {
   "cell_type": "code",
   "execution_count": 6,
   "metadata": {},
   "outputs": [],
   "source": [
    "data     = \"QPThisto_J_isere@bvi_coche_ponserand_valid.txt\"\n",
    "\n",
    "\n",
    "d_ini = datetime.datetime.strptime(date_ini, '%Y-%m-%d')\n",
    "d_fin = datetime.datetime.strptime(date_fin, '%Y-%m-%d')\n",
    "\n",
    "\n",
    "Qobs   = list()\n",
    "PS     = list()\n",
    "TS     = list()\n",
    "date_l = list()\n",
    "\n",
    "#fmt   = '%d/%m/%Y' #'01/01/1948'\n",
    "\n",
    "# observations file reading\n",
    "QPT = open(data)\n",
    "\n",
    "il=0\n",
    "for iline in QPT:\n",
    "    tmp_line = iline.split()\n",
    "    il += 1\n",
    "    if il==1: continue\n",
    "    \n",
    "    dt = datetime.datetime.strptime(tmp_line[0][1:11], '%d/%m/%Y')\n",
    "   \n",
    "    if (dt < d_ini): continue\n",
    "    if (dt > d_fin): continue\n",
    "    date_l.append(dt)\n",
    "    Qobs.append(float(tmp_line[1]))\n",
    "    PS.append(float(tmp_line[2]))\n",
    "    TS.append(float(tmp_line[3]))\n",
    "    \n",
    "QPT.close()"
   ]
  },
  {
   "cell_type": "markdown",
   "metadata": {},
   "source": [
    "# Precipitations case"
   ]
  },
  {
   "cell_type": "code",
   "execution_count": 7,
   "metadata": {
    "scrolled": true
   },
   "outputs": [
    {
     "data": {
      "image/png": "[encoded data removed]",
      "text/plain": [
       "<Figure size 432x288 with 1 Axes>"
      ]
     },
     "metadata": {
      "needs_background": "light"
     },
     "output_type": "display_data"
    }
   ],
   "source": [
    "import statsmodels.tsa.stattools\n",
    "from statsmodels.graphics.tsaplots import plot_acf\n",
    "lags = len(PS)\n",
    "\n",
    "plot_acf(PS, lags=10, alpha =0.05)\n",
    "fig = plt.figure(1, figsize=(10, 6))\n"
   ]
  },
  {
   "cell_type": "markdown",
   "metadata": {},
   "source": [
    "We need to approximate the PS function as a geometric sequence, because we want to approximate PS\n",
    "\n",
    "with the AR model of order 1, according to the formula:\n",
    "<p style='text-align:center'>\n",
    "$PS_{t+1} = multiplicative factor * PS_{t} + Cst. $ <br>\n",
    "    \n",
    "- We are going to look for the multiplying factor by doing a linear regression."
   ]
  },
  {
   "cell_type": "code",
   "execution_count": 5,
   "metadata": {},
   "outputs": [
    {
     "data": {
      "image/png": "[encoded data removed]",
      "text/plain": [
       "<Figure size 432x288 with 1 Axes>"
      ]
     },
     "metadata": {
      "needs_background": "light"
     },
     "output_type": "display_data"
    }
   ],
   "source": [
    "# scatter-plot de l'ordre 1 (lag=1)\n",
    "plt.scatter( PS[:-1],PS[1:]  )\n",
    "plt.show() "
   ]
  },
  {
   "cell_type": "markdown",
   "metadata": {},
   "source": [
    "- The regression with **scipy**"
   ]
  },
  {
   "cell_type": "code",
   "execution_count": 6,
   "metadata": {},
   "outputs": [
    {
     "data": {
      "text/plain": [
       "LinregressResult(slope=0.22654059224194767, intercept=3.180568541055015, rvalue=0.22654059224194767, pvalue=1.986626686620226e-12, stderr=0.031768433417042316)"
      ]
     },
     "execution_count": 6,
     "metadata": {},
     "output_type": "execute_result"
    }
   ],
   "source": [
    "scipy.stats.linregress(PS[:-1],PS[1:])"
   ]
  },
  {
   "cell_type": "markdown",
   "metadata": {},
   "source": [
    "**The slope** (0.25) corresponds to our multiplying_factor (found by the method of least squares)."
   ]
  },
  {
   "cell_type": "markdown",
   "metadata": {},
   "source": [
    "The formula of the model AR(1) : **$X_{t+1} = \\phi * X_{t} + \\epsilon$**\n",
    "- by identification we can associate $\\phi$ with this multiplicative factor, so for PS, $\\phi$ = 0.25..."
   ]
  },
  {
   "cell_type": "markdown",
   "metadata": {},
   "source": [
    "# Temperature case"
   ]
  },
  {
   "cell_type": "code",
   "execution_count": 7,
   "metadata": {},
   "outputs": [
    {
     "name": "stdout",
     "output_type": "stream",
     "text": [
      "[1.         0.93692584 0.85779829 0.813874   0.78556683 0.76181874\n",
      " 0.74015839 0.72086614 0.70129337 0.68613688 0.67700036]\n"
     ]
    },
    {
     "data": {
      "image/png": "[encoded data removed]",
      "text/plain": [
       "<Figure size 432x288 with 1 Axes>"
      ]
     },
     "metadata": {
      "needs_background": "light"
     },
     "output_type": "display_data"
    }
   ],
   "source": [
    "import statsmodels.tsa.stattools\n",
    "from statsmodels.graphics.tsaplots import plot_acf\n",
    "lags = len(TS)\n",
    "#print lags\n",
    "\n",
    "plot_acf(TS, lags=10, alpha =0.05)\n",
    "r=statsmodels.tsa.stattools.acf(TS, unbiased=False,  qstat=False,  nlags=10, fft=False, alpha=None, missing='none')\n",
    "print r\n",
    "#x=np.mean(r)\n",
    "#print x\n",
    "fig = plt.figure(1, figsize=(10, 6))\n",
    "#plt.plot(r, '-k', label='PS')\n",
    "#plt.ylim(-1,1)"
   ]
  },
  {
   "cell_type": "markdown",
   "metadata": {},
   "source": [
    "- To remove seasonality, we are going to smooth out the temperature data by calculating their average over 10 years."
   ]
  },
  {
   "cell_type": "code",
   "execution_count": 8,
   "metadata": {},
   "outputs": [],
   "source": [
    "date_ini      = \"2007-01-01\"\n",
    "\n",
    "date_fin      = \"2016-12-31\"\n",
    "\n",
    "first_year     = 2007\n",
    "\n",
    "# fin de l'init\n",
    "\n",
    "data     = \"QPThisto_J_isere@bvi_coche_ponserand_valid.txt\"\n",
    "\n",
    "\n",
    "#####################################################################\n",
    "#####################################################################\n",
    "\n",
    "d_ini = datetime.datetime.strptime(date_ini, '%Y-%m-%d')\n",
    "d_fin = datetime.datetime.strptime(date_fin, '%Y-%m-%d')\n",
    "#d_ikn = datetime.datetime.strptime(d_deb_known, '%Y-%m-%d')\n",
    "\n",
    "\n",
    "Qobs   = list()\n",
    "PS     = list()\n",
    "TS     = list()\n",
    "date_l = list()\n",
    "\n",
    "#fmt   = '%d/%m/%Y' #'01/01/1948'\n",
    "\n",
    "# observations file reading\n",
    "QPT = open(data)\n",
    "\n",
    "il=0\n",
    "for iline in QPT:\n",
    "    tmp_line = iline.split()\n",
    "    il += 1\n",
    "    if il==1: continue\n",
    "    \n",
    "    dt = datetime.datetime.strptime(tmp_line[0][1:11], '%d/%m/%Y')\n",
    "   \n",
    "    if (dt < d_ini): continue\n",
    "    if (dt > d_fin): continue\n",
    "    date_l.append(dt)\n",
    "    Qobs.append(float(tmp_line[1]))\n",
    "    PS.append(float(tmp_line[2]))\n",
    "    TS.append(float(tmp_line[3]))\n",
    "    \n",
    "QPT.close()\n"
   ]
  },
  {
   "cell_type": "code",
   "execution_count": 9,
   "metadata": {},
   "outputs": [
    {
     "data": {
      "image/png": "[encoded data removed]",
      "text/plain": [
       "<Figure size 432x288 with 1 Axes>"
      ]
     },
     "metadata": {
      "needs_background": "light"
     },
     "output_type": "display_data"
    }
   ],
   "source": [
    "TS_smooth = list()\n",
    "\n",
    "nb_TS = 0\n",
    "\n",
    "# loop over the 10 years\n",
    "for id in range(len(date_l)):\n",
    "\n",
    "    \n",
    "    YYYY = date_l[id].year\n",
    "    MM   = date_l[id].month\n",
    "    DD   = date_l[id].day\n",
    "    \n",
    "    \n",
    "    if (YYYY > first_year):\n",
    "       \n",
    "        if (id - (YYYY-first_year)*nb_TS) < nb_TS:\n",
    "            TS_smooth[id - (YYYY-first_year)*nb_TS] = TS_smooth[id - (YYYY-first_year)*nb_TS ] + TS[id]\n",
    "    else: \n",
    "        TS_smooth.append(TS[id])\n",
    "        nb_TS += 1\n",
    "\n",
    "# nb annee total, 10 ans normalement \n",
    "Nb_year = (YYYY-first_year) + 1\n",
    "\n",
    "# Divise la somme des TS sur le nb d'annees\n",
    "TS_smooth = np.asarray(TS_smooth) / Nb_year\n",
    "\n",
    "# plot \n",
    "plt.plot(date_l[0:nb_TS], TS_smooth, 'k')\n",
    "\n",
    "plt.gcf().autofmt_xdate()\n",
    "plt.xlabel(\"Date\")\n",
    "plt.ylabel(\"Average temperature on \"+str(Nb_year)+\" ans (K)\")\n",
    "plt.show()"
   ]
  },
  {
   "cell_type": "code",
   "execution_count": 10,
   "metadata": {},
   "outputs": [
    {
     "name": "stdout",
     "output_type": "stream",
     "text": [
      "[1.         0.9888865  0.97607061 0.96474759 0.95578688 0.94865095\n",
      " 0.94216998 0.93520035 0.92853206 0.92232559 0.91649366]\n"
     ]
    },
    {
     "data": {
      "image/png": "[encoded data removed]",
      "text/plain": [
       "<Figure size 432x288 with 1 Axes>"
      ]
     },
     "metadata": {
      "needs_background": "light"
     },
     "output_type": "display_data"
    }
   ],
   "source": [
    "lags = len(TS_smooth)\n",
    "#print lags\n",
    "\n",
    "plot_acf(TS_smooth, lags=10, alpha =0.05)\n",
    "r=statsmodels.tsa.stattools.acf(TS_smooth, unbiased=False,  qstat=False,  nlags=10, fft=False, alpha=None, missing='none')\n",
    "print r\n",
    "#x=np.mean(r)\n",
    "#print x\n",
    "fig = plt.figure(1, figsize=(10, 6))\n",
    "#plt.plot(r, '-k', label='PS')\n",
    "#plt.ylim(-1,1)"
   ]
  },
  {
   "cell_type": "code",
   "execution_count": 11,
   "metadata": {},
   "outputs": [
    {
     "name": "stdout",
     "output_type": "stream",
     "text": [
      "[1.         0.99669412 0.98845198 0.97678733 0.96281807 0.94734748\n",
      " 0.93101112 0.91436795 0.89799282 0.88262322 0.86922357]\n"
     ]
    },
    {
     "data": {
      "image/png": "[encoded data removed]",
      "text/plain": [
       "<Figure size 432x288 with 1 Axes>"
      ]
     },
     "metadata": {
      "needs_background": "light"
     },
     "output_type": "display_data"
    }
   ],
   "source": [
    "box_pts = 10\n",
    "\n",
    "box = np.ones(box_pts)/float(box_pts)\n",
    "\n",
    "TS_smooth = np.convolve(TS, box, mode='same')\n",
    "\n",
    "lags = len(TS_smooth)\n",
    "#print lags\n",
    "\n",
    "plot_acf(TS_smooth, lags=10, alpha =0.05)\n",
    "r=statsmodels.tsa.stattools.acf(TS_smooth, unbiased=False,  qstat=False,  nlags=10, fft=False, alpha=None, missing='none')\n",
    "print r\n",
    "#x=np.mean(r)\n",
    "#print x\n",
    "fig = plt.figure(1, figsize=(10, 6))"
   ]
  },
  {
   "cell_type": "code",
   "execution_count": null,
   "metadata": {},
   "outputs": [],
   "source": []
  },
  {
   "cell_type": "code",
   "execution_count": null,
   "metadata": {},
   "outputs": [],
   "source": []
  }
 ],
 "metadata": {
  "kernelspec": {
   "display_name": "Python 2",
   "language": "python",
   "name": "python2"
  },
  "language_info": {
   "codemirror_mode": {
    "name": "ipython",
    "version": 2
   },
   "file_extension": ".py",
   "mimetype": "text/x-python",
   "name": "python",
   "nbconvert_exporter": "python",
   "pygments_lexer": "ipython2",
   "version": "2.7.15"
  }
 },
 "nbformat": 4,
 "nbformat_minor": 2
}
